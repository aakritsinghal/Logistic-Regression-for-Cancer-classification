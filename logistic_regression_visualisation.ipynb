{
  "nbformat": 4,
  "nbformat_minor": 0,
  "metadata": {
    "kernelspec": {
      "display_name": "Python 3",
      "language": "python",
      "name": "python3"
    },
    "language_info": {
      "codemirror_mode": {
        "name": "ipython",
        "version": 3
      },
      "file_extension": ".py",
      "mimetype": "text/x-python",
      "name": "python",
      "nbconvert_exporter": "python",
      "pygments_lexer": "ipython3",
      "version": "3.7.6"
    },
    "papermill": {
      "duration": 10.427771,
      "end_time": "2020-08-25T12:44:55.150974",
      "environment_variables": {},
      "exception": null,
      "input_path": "__notebook__.ipynb",
      "output_path": "__notebook__.ipynb",
      "parameters": {},
      "start_time": "2020-08-25T12:44:44.723203",
      "version": "2.1.0"
    },
    "colab": {
      "name": "logistic-regression-visualisation.ipynb",
      "provenance": []
    }
  },
  "cells": [
    {
      "cell_type": "markdown",
      "metadata": {
        "id": "HP9U_AO8stAq",
        "papermill": {
          "duration": 0.009918,
          "end_time": "2020-08-25T12:44:50.399680",
          "exception": false,
          "start_time": "2020-08-25T12:44:50.389762",
          "status": "completed"
        },
        "tags": []
      },
      "source": [
        "# Introduction to Logistic Regression\n",
        "### This acts as a good benchmark to start understanding Logistic Regression\n",
        "### If you find this interesting, do Upvote the kernel!"
      ]
    },
    {
      "cell_type": "markdown",
      "metadata": {
        "id": "t5WlU9mlAtTt",
        "papermill": {
          "duration": 0.008642,
          "end_time": "2020-08-25T12:44:50.417266",
          "exception": false,
          "start_time": "2020-08-25T12:44:50.408624",
          "status": "completed"
        },
        "tags": []
      },
      "source": [
        "# Background and data exploration"
      ]
    },
    {
      "cell_type": "markdown",
      "metadata": {
        "id": "dYeVd9eptE31",
        "papermill": {
          "duration": 0.008753,
          "end_time": "2020-08-25T12:44:50.436309",
          "exception": false,
          "start_time": "2020-08-25T12:44:50.427556",
          "status": "completed"
        },
        "tags": []
      },
      "source": [
        "Each biopsy sample in the dataset is labeled with an ID number and whether or not the tumor it came from is malignant (M) or benign (B). Each sample also has 10 different features associated with it, some of which are described above. Remember that each feature value for a given biopsy sample is a real-valued number."
      ]
    },
    {
      "cell_type": "code",
      "metadata": {
        "execution": {
          "iopub.execute_input": "2020-08-25T12:44:50.462502Z",
          "iopub.status.busy": "2020-08-25T12:44:50.461829Z",
          "iopub.status.idle": "2020-08-25T12:44:51.948478Z",
          "shell.execute_reply": "2020-08-25T12:44:51.947800Z"
        },
        "id": "zTLBQUJZJpEU",
        "papermill": {
          "duration": 1.503181,
          "end_time": "2020-08-25T12:44:51.948602",
          "exception": false,
          "start_time": "2020-08-25T12:44:50.445421",
          "status": "completed"
        },
        "tags": []
      },
      "source": [
        "# Load the data\n",
        "import pandas as pd\n",
        "from sklearn import metrics\n",
        "data = pd.read_csv('../input/breast-cancer-wisconsin-data/data.csv')\n",
        "data['diagnosis'].replace({'M':1, 'B':0}, inplace = True)\n",
        "data.to_csv('data.csv')\n",
        "del data"
      ],
      "execution_count": null,
      "outputs": []
    },
    {
      "cell_type": "markdown",
      "metadata": {
        "id": "LSpUGH4NvaUk",
        "papermill": {
          "duration": 0.008881,
          "end_time": "2020-08-25T12:44:51.967103",
          "exception": false,
          "start_time": "2020-08-25T12:44:51.958222",
          "status": "completed"
        },
        "tags": []
      },
      "source": [
        "## Loading our annotated dataset\n",
        "\n",
        "The first step in building our breast cancer tumor classification model is to load in the dataset we'll use to \"teach\" (or \"train\") our model."
      ]
    },
    {
      "cell_type": "code",
      "metadata": {
        "execution": {
          "iopub.execute_input": "2020-08-25T12:44:51.991204Z",
          "iopub.status.busy": "2020-08-25T12:44:51.990440Z",
          "iopub.status.idle": "2020-08-25T12:44:51.995077Z",
          "shell.execute_reply": "2020-08-25T12:44:51.994188Z"
        },
        "id": "LmyUG5GrvdPf",
        "papermill": {
          "duration": 0.018263,
          "end_time": "2020-08-25T12:44:51.995219",
          "exception": false,
          "start_time": "2020-08-25T12:44:51.976956",
          "status": "completed"
        },
        "tags": []
      },
      "source": [
        "# First, import helpful Python tools for loading/navigating data\n",
        "import os             # Good for navigating your computer's files \n",
        "import numpy as np    # Great for lists (arrays) of numbers\n",
        "import pandas as pd   # Great for tables (google spreadsheets, microsoft excel, csv)"
      ],
      "execution_count": null,
      "outputs": []
    },
    {
      "cell_type": "code",
      "metadata": {
        "execution": {
          "iopub.execute_input": "2020-08-25T12:44:52.028566Z",
          "iopub.status.busy": "2020-08-25T12:44:52.027790Z",
          "iopub.status.idle": "2020-08-25T12:44:52.031175Z",
          "shell.execute_reply": "2020-08-25T12:44:52.031629Z"
        },
        "id": "5Cu2tGYpv5AZ",
        "papermill": {
          "duration": 0.022,
          "end_time": "2020-08-25T12:44:52.031764",
          "exception": false,
          "start_time": "2020-08-25T12:44:52.009764",
          "status": "completed"
        },
        "tags": []
      },
      "source": [
        "data_path  = 'data.csv'"
      ],
      "execution_count": null,
      "outputs": []
    },
    {
      "cell_type": "code",
      "metadata": {
        "execution": {
          "iopub.execute_input": "2020-08-25T12:44:52.055537Z",
          "iopub.status.busy": "2020-08-25T12:44:52.054558Z",
          "iopub.status.idle": "2020-08-25T12:44:52.064625Z",
          "shell.execute_reply": "2020-08-25T12:44:52.063715Z"
        },
        "id": "TE3BWCCJv8TZ",
        "papermill": {
          "duration": 0.02395,
          "end_time": "2020-08-25T12:44:52.064767",
          "exception": false,
          "start_time": "2020-08-25T12:44:52.040817",
          "status": "completed"
        },
        "tags": []
      },
      "source": [
        "# Use the 'pd.read_csv('file')' function to read in read our data and store it in a variable called 'dataframe'\n",
        "dataframe = pd.read_csv(data_path)"
      ],
      "execution_count": null,
      "outputs": []
    },
    {
      "cell_type": "markdown",
      "metadata": {
        "id": "YKx4euGqwHpS",
        "papermill": {
          "duration": 0.014572,
          "end_time": "2020-08-25T12:44:52.094345",
          "exception": false,
          "start_time": "2020-08-25T12:44:52.079773",
          "status": "completed"
        },
        "tags": []
      },
      "source": [
        " ## Looking at our dataset\n",
        " \n",
        " A key step in machine learning (and coding in general!) is to view the structure and dimensions of our new dataframe, which stores all our training data from the tumor biopsies. We want to confirm that the size of our table is correct, check out the features present, and get a more visual sense of what it looks like overall."
      ]
    },
    {
      "cell_type": "code",
      "metadata": {
        "execution": {
          "iopub.execute_input": "2020-08-25T12:44:52.134996Z",
          "iopub.status.busy": "2020-08-25T12:44:52.134372Z",
          "iopub.status.idle": "2020-08-25T12:44:52.138188Z",
          "shell.execute_reply": "2020-08-25T12:44:52.137632Z"
        },
        "id": "eUBEd-10v-Ro",
        "papermill": {
          "duration": 0.029117,
          "end_time": "2020-08-25T12:44:52.138307",
          "exception": false,
          "start_time": "2020-08-25T12:44:52.109190",
          "status": "completed"
        },
        "tags": []
      },
      "source": [
        "# Let's look at just a few of the biopsy sample features to start by subsetting our 'dataframe'\n",
        "dataframe = dataframe[['diagnosis','radius_mean','area_mean', 'radius_se', 'area_se', 'smoothness_mean','smoothness_se']]"
      ],
      "execution_count": null,
      "outputs": []
    },
    {
      "cell_type": "markdown",
      "metadata": {
        "id": "44xNblKYVRHh",
        "papermill": {
          "duration": 0.008878,
          "end_time": "2020-08-25T12:44:52.156727",
          "exception": false,
          "start_time": "2020-08-25T12:44:52.147849",
          "status": "completed"
        },
        "tags": []
      },
      "source": [
        "You can think of dataframes like Google or Microsoft Excel spreadsheets (large tables with row/column headers) \n",
        "\n",
        "**Use the 'head()' method to show the first five rows of the table and their corresponding column headers (our 7 biopsy features!)**"
      ]
    },
    {
      "cell_type": "code",
      "metadata": {
        "execution": {
          "iopub.execute_input": "2020-08-25T12:44:52.192102Z",
          "iopub.status.busy": "2020-08-25T12:44:52.186636Z",
          "iopub.status.idle": "2020-08-25T12:44:52.208681Z",
          "shell.execute_reply": "2020-08-25T12:44:52.209181Z"
        },
        "id": "sKRxaP1qweIz",
        "papermill": {
          "duration": 0.042779,
          "end_time": "2020-08-25T12:44:52.209333",
          "exception": false,
          "start_time": "2020-08-25T12:44:52.166554",
          "status": "completed"
        },
        "tags": [],
        "outputId": "bc27002a-9fc3-458b-88a9-ac8acff37e06"
      },
      "source": [
        "dataframe.head()"
      ],
      "execution_count": null,
      "outputs": [
        {
          "data": {
            "text/html": [
              "<div>\n",
              "<style scoped>\n",
              "    .dataframe tbody tr th:only-of-type {\n",
              "        vertical-align: middle;\n",
              "    }\n",
              "\n",
              "    .dataframe tbody tr th {\n",
              "        vertical-align: top;\n",
              "    }\n",
              "\n",
              "    .dataframe thead th {\n",
              "        text-align: right;\n",
              "    }\n",
              "</style>\n",
              "<table border=\"1\" class=\"dataframe\">\n",
              "  <thead>\n",
              "    <tr style=\"text-align: right;\">\n",
              "      <th></th>\n",
              "      <th>diagnosis</th>\n",
              "      <th>radius_mean</th>\n",
              "      <th>area_mean</th>\n",
              "      <th>radius_se</th>\n",
              "      <th>area_se</th>\n",
              "      <th>smoothness_mean</th>\n",
              "      <th>smoothness_se</th>\n",
              "    </tr>\n",
              "  </thead>\n",
              "  <tbody>\n",
              "    <tr>\n",
              "      <th>0</th>\n",
              "      <td>1</td>\n",
              "      <td>17.99</td>\n",
              "      <td>1001.0</td>\n",
              "      <td>1.0950</td>\n",
              "      <td>153.40</td>\n",
              "      <td>0.11840</td>\n",
              "      <td>0.006399</td>\n",
              "    </tr>\n",
              "    <tr>\n",
              "      <th>1</th>\n",
              "      <td>1</td>\n",
              "      <td>20.57</td>\n",
              "      <td>1326.0</td>\n",
              "      <td>0.5435</td>\n",
              "      <td>74.08</td>\n",
              "      <td>0.08474</td>\n",
              "      <td>0.005225</td>\n",
              "    </tr>\n",
              "    <tr>\n",
              "      <th>2</th>\n",
              "      <td>1</td>\n",
              "      <td>19.69</td>\n",
              "      <td>1203.0</td>\n",
              "      <td>0.7456</td>\n",
              "      <td>94.03</td>\n",
              "      <td>0.10960</td>\n",
              "      <td>0.006150</td>\n",
              "    </tr>\n",
              "    <tr>\n",
              "      <th>3</th>\n",
              "      <td>1</td>\n",
              "      <td>11.42</td>\n",
              "      <td>386.1</td>\n",
              "      <td>0.4956</td>\n",
              "      <td>27.23</td>\n",
              "      <td>0.14250</td>\n",
              "      <td>0.009110</td>\n",
              "    </tr>\n",
              "    <tr>\n",
              "      <th>4</th>\n",
              "      <td>1</td>\n",
              "      <td>20.29</td>\n",
              "      <td>1297.0</td>\n",
              "      <td>0.7572</td>\n",
              "      <td>94.44</td>\n",
              "      <td>0.10030</td>\n",
              "      <td>0.011490</td>\n",
              "    </tr>\n",
              "  </tbody>\n",
              "</table>\n",
              "</div>"
            ],
            "text/plain": [
              "   diagnosis  radius_mean  area_mean  radius_se  area_se  smoothness_mean  \\\n",
              "0          1        17.99     1001.0     1.0950   153.40          0.11840   \n",
              "1          1        20.57     1326.0     0.5435    74.08          0.08474   \n",
              "2          1        19.69     1203.0     0.7456    94.03          0.10960   \n",
              "3          1        11.42      386.1     0.4956    27.23          0.14250   \n",
              "4          1        20.29     1297.0     0.7572    94.44          0.10030   \n",
              "\n",
              "   smoothness_se  \n",
              "0       0.006399  \n",
              "1       0.005225  \n",
              "2       0.006150  \n",
              "3       0.009110  \n",
              "4       0.011490  "
            ]
          },
          "execution_count": 6,
          "metadata": {},
          "output_type": "execute_result"
        }
      ]
    },
    {
      "cell_type": "markdown",
      "metadata": {
        "id": "tilXEPhVwkjk",
        "papermill": {
          "duration": 0.009791,
          "end_time": "2020-08-25T12:44:52.229237",
          "exception": false,
          "start_time": "2020-08-25T12:44:52.219446",
          "status": "completed"
        },
        "tags": []
      },
      "source": [
        "\n",
        "* $diagnosis$: Whether or not the tumor was diagnosed as malignant (M) or benign (B).\n",
        "* $radius$_$mean$: The radius data feature, averaged across cells in that particular biopsy\n",
        "* $area$_$mean$: The area data feature, averaged across cells in that particular biopsy\n",
        "* $radius$_$se$: The standard error of the radius data feature for cells in that particular biopsy\n",
        "* $area$_$se$: The standard error of the area data feature for cells in that particular biopsy\n",
        "* $smoothness$_$mean$: The smoothness feature, averaged across cells in that particular biopsy\n",
        "* $smoothness$_$se$: The standard error of the smoothness data feature for cells in that particular biopsy\n",
        "\n",
        "Recall that the term mean refers to taking an average (summing the values for each cell and dividing by the total number of cells observed in that biopsy). Additionally, standarded error gives a sense of the standard deviation (how much variance there is between cells in that biopsy for that feature). "
      ]
    },
    {
      "cell_type": "code",
      "metadata": {
        "execution": {
          "iopub.execute_input": "2020-08-25T12:44:52.268814Z",
          "iopub.status.busy": "2020-08-25T12:44:52.267819Z",
          "iopub.status.idle": "2020-08-25T12:44:52.272136Z",
          "shell.execute_reply": "2020-08-25T12:44:52.272953Z"
        },
        "id": "0-SoD9EQw5Ie",
        "papermill": {
          "duration": 0.033614,
          "end_time": "2020-08-25T12:44:52.273170",
          "exception": false,
          "start_time": "2020-08-25T12:44:52.239556",
          "status": "completed"
        },
        "tags": [],
        "outputId": "0f331e1d-2a59-4150-cb2d-954305bb3e64"
      },
      "source": [
        "# Next, we'll use the 'info' method to see the data types of each column\n",
        "dataframe.info()"
      ],
      "execution_count": null,
      "outputs": [
        {
          "name": "stdout",
          "output_type": "stream",
          "text": [
            "<class 'pandas.core.frame.DataFrame'>\n",
            "RangeIndex: 569 entries, 0 to 568\n",
            "Data columns (total 7 columns):\n",
            " #   Column           Non-Null Count  Dtype  \n",
            "---  ------           --------------  -----  \n",
            " 0   diagnosis        569 non-null    int64  \n",
            " 1   radius_mean      569 non-null    float64\n",
            " 2   area_mean        569 non-null    float64\n",
            " 3   radius_se        569 non-null    float64\n",
            " 4   area_se          569 non-null    float64\n",
            " 5   smoothness_mean  569 non-null    float64\n",
            " 6   smoothness_se    569 non-null    float64\n",
            "dtypes: float64(6), int64(1)\n",
            "memory usage: 31.2 KB\n"
          ]
        }
      ]
    },
    {
      "cell_type": "code",
      "metadata": {
        "execution": {
          "iopub.execute_input": "2020-08-25T12:44:52.310280Z",
          "iopub.status.busy": "2020-08-25T12:44:52.309395Z",
          "iopub.status.idle": "2020-08-25T12:44:52.470658Z",
          "shell.execute_reply": "2020-08-25T12:44:52.470066Z"
        },
        "id": "LP0-9c4VxsJ7",
        "papermill": {
          "duration": 0.181467,
          "end_time": "2020-08-25T12:44:52.470775",
          "exception": false,
          "start_time": "2020-08-25T12:44:52.289308",
          "status": "completed"
        },
        "tags": []
      },
      "source": [
        "# First, we'll import some handy data visualization tools\n",
        "import seaborn as sns\n",
        "import matplotlib.pyplot as plt "
      ],
      "execution_count": null,
      "outputs": []
    },
    {
      "cell_type": "code",
      "metadata": {
        "execution": {
          "iopub.execute_input": "2020-08-25T12:44:52.498671Z",
          "iopub.status.busy": "2020-08-25T12:44:52.497832Z",
          "iopub.status.idle": "2020-08-25T12:44:52.749209Z",
          "shell.execute_reply": "2020-08-25T12:44:52.748561Z"
        },
        "id": "IULVFMLhyLwN",
        "papermill": {
          "duration": 0.268145,
          "end_time": "2020-08-25T12:44:52.749322",
          "exception": false,
          "start_time": "2020-08-25T12:44:52.481177",
          "status": "completed"
        },
        "tags": [],
        "outputId": "a8fcf2e8-f763-44a2-b07f-cc38424f54c6"
      },
      "source": [
        "# To see how well mean radius correlates with diagnosis, we'll plot the data\n",
        "# separated based on diagnosis category on the x-axis and have the points' y-value\n",
        "# be its mean radius value\n",
        "\n",
        "sns.catplot(x = 'diagnosis', y = 'radius_mean', data = dataframe)"
      ],
      "execution_count": null,
      "outputs": [
        {
          "data": {
            "text/plain": [
              "<seaborn.axisgrid.FacetGrid at 0x7ff66496b3d0>"
            ]
          },
          "execution_count": 9,
          "metadata": {},
          "output_type": "execute_result"
        },
        {
          "data": {
            "image/png": "[encoded data removed]",
            "text/plain": [
              "<Figure size 360x360 with 1 Axes>"
            ]
          },
          "metadata": {
            "needs_background": "light"
          },
          "output_type": "display_data"
        }
      ]
    },
    {
      "cell_type": "markdown",
      "metadata": {
        "id": "sFG1rBi8zq0n",
        "papermill": {
          "duration": 0.010166,
          "end_time": "2020-08-25T12:44:52.769854",
          "exception": false,
          "start_time": "2020-08-25T12:44:52.759688",
          "status": "completed"
        },
        "tags": []
      },
      "source": [
        "Next, we might want to check just how well mean radius can be used to classify, or separate, the datapoints in either category\n",
        "Let's pick a boundary value for the radius mean and see how well it separates the data"
      ]
    },
    {
      "cell_type": "code",
      "metadata": {
        "execution": {
          "iopub.execute_input": "2020-08-25T12:44:52.811674Z",
          "iopub.status.busy": "2020-08-25T12:44:52.798757Z",
          "iopub.status.idle": "2020-08-25T12:44:52.980544Z",
          "shell.execute_reply": "2020-08-25T12:44:52.979861Z"
        },
        "id": "1oYBTJsvyaC6",
        "papermill": {
          "duration": 0.200989,
          "end_time": "2020-08-25T12:44:52.980656",
          "exception": false,
          "start_time": "2020-08-25T12:44:52.779667",
          "status": "completed"
        },
        "tags": [],
        "outputId": "80f1ad3c-bab8-4bfe-f8bb-4e716aa65b25"
      },
      "source": [
        "boundary = 10\n",
        "sns.scatterplot(x = 'radius_mean', y = 'diagnosis', data = dataframe)\n",
        "plt.plot([boundary, boundary], [0, 1], 'g', linewidth = 6)"
      ],
      "execution_count": null,
      "outputs": [
        {
          "data": {
            "text/plain": [
              "[<matplotlib.lines.Line2D at 0x7ff66472df90>]"
            ]
          },
          "execution_count": 10,
          "metadata": {},
          "output_type": "execute_result"
        },
        {
          "data": {
            "image/png": "[encoded data removed]",
            "text/plain": [
              "<Figure size 432x288 with 1 Axes>"
            ]
          },
          "metadata": {
            "needs_background": "light"
          },
          "output_type": "display_data"
        }
      ]
    },
    {
      "cell_type": "markdown",
      "metadata": {
        "id": "6ZmcQ_vGWZnR",
        "papermill": {
          "duration": 0.010751,
          "end_time": "2020-08-25T12:44:53.003572",
          "exception": false,
          "start_time": "2020-08-25T12:44:52.992821",
          "status": "completed"
        },
        "tags": []
      },
      "source": [
        "Using a boundary value, we can build a boundary classifier function. This function will take in a boundary value of our choosing and then classify the data points based on whether or not they are above or below the boundary\n",
        "\n",
        "#### Building the boundary classifier\n",
        "Here we build the function that takes in a target boundary (value of radius mean). Write a function to implement a boundary classifier. Think about what the return 'type' of this classifier might be."
      ]
    },
    {
      "cell_type": "markdown",
      "metadata": {
        "id": "kBttJRoNYYdJ",
        "papermill": {
          "duration": 0.010909,
          "end_time": "2020-08-25T12:44:53.025374",
          "exception": false,
          "start_time": "2020-08-25T12:44:53.014465",
          "status": "completed"
        },
        "tags": []
      },
      "source": [
        "The code below chooses a boundary and runs it for us. "
      ]
    },
    {
      "cell_type": "code",
      "metadata": {
        "execution": {
          "iopub.execute_input": "2020-08-25T12:44:53.060308Z",
          "iopub.status.busy": "2020-08-25T12:44:53.056130Z",
          "iopub.status.idle": "2020-08-25T12:44:53.426221Z",
          "shell.execute_reply": "2020-08-25T12:44:53.425565Z"
        },
        "id": "0PiRMX-xKjiA",
        "papermill": {
          "duration": 0.389991,
          "end_time": "2020-08-25T12:44:53.426331",
          "exception": false,
          "start_time": "2020-08-25T12:44:53.036340",
          "status": "completed"
        },
        "tags": [],
        "outputId": "3d60b850-7f03-45ed-b365-3488a53adf99"
      },
      "source": [
        "def boundary_classifier(target_boundary,x):\n",
        "  result = []\n",
        "  for i in x:\n",
        "    if i > target_boundary:\n",
        "      result.append(1)\n",
        "    else:\n",
        "      result.append(0)\n",
        "  return result\n",
        "     \n",
        "chosen_boundary = 15\n",
        "y_pred = boundary_classifier(chosen_boundary, dataframe['radius_mean'])\n",
        "dataframe['predicted'] = y_pred\n",
        "y_true = dataframe['diagnosis']\n",
        "sns.scatterplot(x = 'radius_mean', y = 'diagnosis', hue = 'predicted', data = dataframe)\n",
        "plt.plot([chosen_boundary, chosen_boundary], [0, 1], 'g', linewidth = 6)\n"
      ],
      "execution_count": null,
      "outputs": [
        {
          "data": {
            "text/plain": [
              "[<matplotlib.lines.Line2D at 0x7ff66413d650>]"
            ]
          },
          "execution_count": 11,
          "metadata": {},
          "output_type": "execute_result"
        },
        {
          "data": {
            "image/png": "[encoded data removed]",
            "text/plain": [
              "<Figure size 432x288 with 1 Axes>"
            ]
          },
          "metadata": {
            "needs_background": "light"
          },
          "output_type": "display_data"
        }
      ]
    },
    {
      "cell_type": "code",
      "metadata": {
        "execution": {
          "iopub.execute_input": "2020-08-25T12:44:53.456314Z",
          "iopub.status.busy": "2020-08-25T12:44:53.455247Z",
          "iopub.status.idle": "2020-08-25T12:44:53.462143Z",
          "shell.execute_reply": "2020-08-25T12:44:53.461571Z"
        },
        "id": "Ro6toAITfrp1",
        "papermill": {
          "duration": 0.024441,
          "end_time": "2020-08-25T12:44:53.462264",
          "exception": false,
          "start_time": "2020-08-25T12:44:53.437823",
          "status": "completed"
        },
        "tags": [],
        "outputId": "a66cbdc2-10b3-4515-ba3a-a8a746c17c4d"
      },
      "source": [
        "accuracy = metrics.accuracy_score(y_true,y_pred)\n",
        "accuracy"
      ],
      "execution_count": null,
      "outputs": [
        {
          "data": {
            "text/plain": [
              "0.8892794376098418"
            ]
          },
          "execution_count": 12,
          "metadata": {},
          "output_type": "execute_result"
        }
      ]
    },
    {
      "cell_type": "markdown",
      "metadata": {
        "id": "YwOdbfoiL9pz",
        "papermill": {
          "duration": 0.01147,
          "end_time": "2020-08-25T12:44:53.485392",
          "exception": false,
          "start_time": "2020-08-25T12:44:53.473922",
          "status": "completed"
        },
        "tags": []
      },
      "source": [
        "**True positive rate (TPR)**: Sometimes called sensitvity, the TPR is the proportion of actual positives that are correctly identified as such. An analogy would be the percentage of sick people who are correctly identified as having the disease in some population.\n",
        "\n",
        "**True negative rate (TNR)**: Sometimes called specificity, the TNR is the proportion of actual negatives that are correctly identified as such. An analogy would be the the percentage of healthy people who are correctly identified as not having the disease in some population.\n",
        "\n",
        "**False positive rate (FPR)**: The FPR is the proportion of actual negatives that are incorrectly identified as positives. An analogy would be the percentage of healthy people who are incorrectly identified as having the disease.\n",
        "\n",
        "**False negative rate (FNR)**: The FPR is the proportion of actual positives that are incorrectly identified as negatives. An analogy would be the percentage of sick people who are incorrectly identified as healthy.\n",
        "\n",
        "A key insight is that there is a tradeoff when trying to reduce the different types of errors. For instance, if we want to increase our TPR (thus decrease our FNR by correctly identifying more sick people), our improvements will have to increase the number of people we guess to be sick. However, such an improvement will decrease our TNR (thus inrease our FPR by guessing more healty people are sick). \n",
        "\n",
        "Sometimes, one type of error is worse than the others for a given problem. Other times, however, we must strike an acceptable balance between the two."
      ]
    },
    {
      "cell_type": "markdown",
      "metadata": {
        "id": "Koc7oPy8AASf",
        "papermill": {
          "duration": 0.010969,
          "end_time": "2020-08-25T12:44:53.507938",
          "exception": false,
          "start_time": "2020-08-25T12:44:53.496969",
          "status": "completed"
        },
        "tags": []
      },
      "source": [
        "![alt text](https://drive.google.com/uc?export=view&id=1S4S2MBM86D74C-Q0aPPwHzbU8iUveLKq)"
      ]
    },
    {
      "cell_type": "code",
      "metadata": {
        "execution": {
          "iopub.execute_input": "2020-08-25T12:44:53.541650Z",
          "iopub.status.busy": "2020-08-25T12:44:53.540944Z",
          "iopub.status.idle": "2020-08-25T12:44:53.774655Z",
          "shell.execute_reply": "2020-08-25T12:44:53.774137Z"
        },
        "id": "EcfsPpup9ljK",
        "papermill": {
          "duration": 0.255112,
          "end_time": "2020-08-25T12:44:53.774769",
          "exception": false,
          "start_time": "2020-08-25T12:44:53.519657",
          "status": "completed"
        },
        "tags": [],
        "outputId": "ab921689-9e98-4c75-ba6d-a4a52132cf03"
      },
      "source": [
        "# Import the metrics class\n",
        "from sklearn import metrics\n",
        "\n",
        "# Create the Confusion Matrix\n",
        "y_test = dataframe['diagnosis']\n",
        "cnf_matrix = metrics.confusion_matrix(y_test, y_pred)\n",
        "\n",
        "# Visualizing the Confusion Matrix\n",
        "class_names = [0,1] # Our diagnosis categories\n",
        "\n",
        "fig, ax = plt.subplots()\n",
        "# Setting up and visualizing the plot (do not worry about the code below!)\n",
        "tick_marks = np.arange(len(class_names)) \n",
        "plt.xticks(tick_marks, class_names)\n",
        "plt.yticks(tick_marks, class_names)\n",
        "sns.heatmap(pd.DataFrame(cnf_matrix), annot=True, cmap=\"YlGnBu\" ,fmt='g') # Creating heatmap\n",
        "ax.xaxis.set_label_position(\"top\")\n",
        "plt.tight_layout()\n",
        "plt.title('Confusion matrix', y = 1.1)\n",
        "plt.ylabel('Actual diagnosis')\n",
        "plt.xlabel('Predicted diagnosis')"
      ],
      "execution_count": null,
      "outputs": [
        {
          "data": {
            "text/plain": [
              "Text(0.5, 257.44, 'Predicted diagnosis')"
            ]
          },
          "execution_count": 13,
          "metadata": {},
          "output_type": "execute_result"
        },
        {
          "data": {
            "image/png": "[encoded data removed]",
            "text/plain": [
              "<Figure size 432x288 with 2 Axes>"
            ]
          },
          "metadata": {
            "needs_background": "light"
          },
          "output_type": "display_data"
        }
      ]
    },
    {
      "cell_type": "code",
      "metadata": {
        "execution": {
          "iopub.execute_input": "2020-08-25T12:44:53.804517Z",
          "iopub.status.busy": "2020-08-25T12:44:53.803918Z",
          "iopub.status.idle": "2020-08-25T12:44:53.807109Z",
          "shell.execute_reply": "2020-08-25T12:44:53.806484Z"
        },
        "id": "0xqCb1zElUUo",
        "papermill": {
          "duration": 0.020554,
          "end_time": "2020-08-25T12:44:53.807213",
          "exception": false,
          "start_time": "2020-08-25T12:44:53.786659",
          "status": "completed"
        },
        "tags": []
      },
      "source": [
        "# YOUR CODE HERE:  \n",
        "def model_stats(y_test, y_pred):\n",
        "  print(\"Accuracy: \", metrics.accuracy_score(y_test, y_pred))\n",
        "  print(\"Precision: \", metrics.precision_score(y_test, y_pred))\n",
        "  print(\"Recall: \", metrics.recall_score(y_test, y_pred))"
      ],
      "execution_count": null,
      "outputs": []
    },
    {
      "cell_type": "code",
      "metadata": {
        "execution": {
          "iopub.execute_input": "2020-08-25T12:44:53.836792Z",
          "iopub.status.busy": "2020-08-25T12:44:53.835971Z",
          "iopub.status.idle": "2020-08-25T12:44:53.846711Z",
          "shell.execute_reply": "2020-08-25T12:44:53.846093Z"
        },
        "id": "tymoFFLaJzMc",
        "papermill": {
          "duration": 0.027644,
          "end_time": "2020-08-25T12:44:53.846820",
          "exception": false,
          "start_time": "2020-08-25T12:44:53.819176",
          "status": "completed"
        },
        "tags": [],
        "outputId": "bdc3940e-d2eb-4007-9bcf-360ffaca6702"
      },
      "source": [
        "model_stats(y_test, y_pred)"
      ],
      "execution_count": null,
      "outputs": [
        {
          "name": "stdout",
          "output_type": "stream",
          "text": [
            "Accuracy:  0.8892794376098418\n",
            "Precision:  0.930635838150289\n",
            "Recall:  0.7594339622641509\n"
          ]
        }
      ]
    },
    {
      "cell_type": "markdown",
      "metadata": {
        "id": "sHhZeAbdupMl",
        "papermill": {
          "duration": 0.011733,
          "end_time": "2020-08-25T12:44:53.870744",
          "exception": false,
          "start_time": "2020-08-25T12:44:53.859011",
          "status": "completed"
        },
        "tags": []
      },
      "source": [
        "# Finding a better separation with logistic regression\n"
      ]
    },
    {
      "cell_type": "code",
      "metadata": {
        "execution": {
          "iopub.execute_input": "2020-08-25T12:44:53.900274Z",
          "iopub.status.busy": "2020-08-25T12:44:53.899573Z",
          "iopub.status.idle": "2020-08-25T12:44:54.021903Z",
          "shell.execute_reply": "2020-08-25T12:44:54.021225Z"
        },
        "id": "ZEq3DYrh1nPO",
        "papermill": {
          "duration": 0.138839,
          "end_time": "2020-08-25T12:44:54.022042",
          "exception": false,
          "start_time": "2020-08-25T12:44:53.883203",
          "status": "completed"
        },
        "tags": []
      },
      "source": [
        "# Let's pull our handy linear fitter from our 'prediction' toolbox: sklearn!\n",
        "from sklearn import linear_model"
      ],
      "execution_count": null,
      "outputs": []
    },
    {
      "cell_type": "code",
      "metadata": {
        "execution": {
          "iopub.execute_input": "2020-08-25T12:44:54.052889Z",
          "iopub.status.busy": "2020-08-25T12:44:54.052292Z",
          "iopub.status.idle": "2020-08-25T12:44:54.055454Z",
          "shell.execute_reply": "2020-08-25T12:44:54.054801Z"
        },
        "id": "krQ6dJo-5yek",
        "papermill": {
          "duration": 0.02177,
          "end_time": "2020-08-25T12:44:54.055549",
          "exception": false,
          "start_time": "2020-08-25T12:44:54.033779",
          "status": "completed"
        },
        "tags": []
      },
      "source": [
        "from sklearn.model_selection import train_test_split\n",
        "\n",
        "train_df, test_df = train_test_split(dataframe, test_size = 0.4, random_state = 1)\n"
      ],
      "execution_count": null,
      "outputs": []
    },
    {
      "cell_type": "code",
      "metadata": {
        "execution": {
          "iopub.execute_input": "2020-08-25T12:44:54.092765Z",
          "iopub.status.busy": "2020-08-25T12:44:54.091938Z",
          "iopub.status.idle": "2020-08-25T12:44:54.098673Z",
          "shell.execute_reply": "2020-08-25T12:44:54.098186Z"
        },
        "id": "wDYAAl6xgPYO",
        "papermill": {
          "duration": 0.032003,
          "end_time": "2020-08-25T12:44:54.098776",
          "exception": false,
          "start_time": "2020-08-25T12:44:54.066773",
          "status": "completed"
        },
        "tags": [],
        "outputId": "9d4a62a8-fcc8-4c56-8e1f-e4343f071819"
      },
      "source": [
        "print('\\n\\nTraining dataframe has %d rows'%train_df.shape[0])\n",
        "train_df.head()"
      ],
      "execution_count": null,
      "outputs": [
        {
          "name": "stdout",
          "output_type": "stream",
          "text": [
            "\n",
            "\n",
            "Training dataframe has 341 rows\n"
          ]
        },
        {
          "data": {
            "text/html": [
              "<div>\n",
              "<style scoped>\n",
              "    .dataframe tbody tr th:only-of-type {\n",
              "        vertical-align: middle;\n",
              "    }\n",
              "\n",
              "    .dataframe tbody tr th {\n",
              "        vertical-align: top;\n",
              "    }\n",
              "\n",
              "    .dataframe thead th {\n",
              "        text-align: right;\n",
              "    }\n",
              "</style>\n",
              "<table border=\"1\" class=\"dataframe\">\n",
              "  <thead>\n",
              "    <tr style=\"text-align: right;\">\n",
              "      <th></th>\n",
              "      <th>diagnosis</th>\n",
              "      <th>radius_mean</th>\n",
              "      <th>area_mean</th>\n",
              "      <th>radius_se</th>\n",
              "      <th>area_se</th>\n",
              "      <th>smoothness_mean</th>\n",
              "      <th>smoothness_se</th>\n",
              "      <th>predicted</th>\n",
              "    </tr>\n",
              "  </thead>\n",
              "  <tbody>\n",
              "    <tr>\n",
              "      <th>164</th>\n",
              "      <td>1</td>\n",
              "      <td>23.270</td>\n",
              "      <td>1686.0</td>\n",
              "      <td>0.6642</td>\n",
              "      <td>97.85</td>\n",
              "      <td>0.08439</td>\n",
              "      <td>0.004910</td>\n",
              "      <td>1</td>\n",
              "    </tr>\n",
              "    <tr>\n",
              "      <th>13</th>\n",
              "      <td>1</td>\n",
              "      <td>15.850</td>\n",
              "      <td>782.7</td>\n",
              "      <td>0.4033</td>\n",
              "      <td>36.58</td>\n",
              "      <td>0.08401</td>\n",
              "      <td>0.009769</td>\n",
              "      <td>1</td>\n",
              "    </tr>\n",
              "    <tr>\n",
              "      <th>430</th>\n",
              "      <td>1</td>\n",
              "      <td>14.900</td>\n",
              "      <td>685.0</td>\n",
              "      <td>0.2530</td>\n",
              "      <td>24.19</td>\n",
              "      <td>0.09947</td>\n",
              "      <td>0.006965</td>\n",
              "      <td>0</td>\n",
              "    </tr>\n",
              "    <tr>\n",
              "      <th>61</th>\n",
              "      <td>0</td>\n",
              "      <td>8.598</td>\n",
              "      <td>221.8</td>\n",
              "      <td>0.3582</td>\n",
              "      <td>18.39</td>\n",
              "      <td>0.12430</td>\n",
              "      <td>0.011930</td>\n",
              "      <td>0</td>\n",
              "    </tr>\n",
              "    <tr>\n",
              "      <th>427</th>\n",
              "      <td>0</td>\n",
              "      <td>10.800</td>\n",
              "      <td>359.9</td>\n",
              "      <td>0.3077</td>\n",
              "      <td>20.20</td>\n",
              "      <td>0.08801</td>\n",
              "      <td>0.006543</td>\n",
              "      <td>0</td>\n",
              "    </tr>\n",
              "  </tbody>\n",
              "</table>\n",
              "</div>"
            ],
            "text/plain": [
              "     diagnosis  radius_mean  area_mean  radius_se  area_se  smoothness_mean  \\\n",
              "164          1       23.270     1686.0     0.6642    97.85          0.08439   \n",
              "13           1       15.850      782.7     0.4033    36.58          0.08401   \n",
              "430          1       14.900      685.0     0.2530    24.19          0.09947   \n",
              "61           0        8.598      221.8     0.3582    18.39          0.12430   \n",
              "427          0       10.800      359.9     0.3077    20.20          0.08801   \n",
              "\n",
              "     smoothness_se  predicted  \n",
              "164       0.004910          1  \n",
              "13        0.009769          1  \n",
              "430       0.006965          0  \n",
              "61        0.011930          0  \n",
              "427       0.006543          0  "
            ]
          },
          "execution_count": 18,
          "metadata": {},
          "output_type": "execute_result"
        }
      ]
    },
    {
      "cell_type": "code",
      "metadata": {
        "execution": {
          "iopub.execute_input": "2020-08-25T12:44:54.136367Z",
          "iopub.status.busy": "2020-08-25T12:44:54.135610Z",
          "iopub.status.idle": "2020-08-25T12:44:54.142016Z",
          "shell.execute_reply": "2020-08-25T12:44:54.141355Z"
        },
        "id": "EMornfXPhzli",
        "papermill": {
          "duration": 0.031642,
          "end_time": "2020-08-25T12:44:54.142129",
          "exception": false,
          "start_time": "2020-08-25T12:44:54.110487",
          "status": "completed"
        },
        "tags": [],
        "outputId": "e6526406-756a-4ba0-b0e0-5cf111182e20"
      },
      "source": [
        "print('\\n\\nTesting dataframe has %d rows'%test_df.shape[0])\n",
        "test_df.head()"
      ],
      "execution_count": null,
      "outputs": [
        {
          "name": "stdout",
          "output_type": "stream",
          "text": [
            "\n",
            "\n",
            "Testing dataframe has 228 rows\n"
          ]
        },
        {
          "data": {
            "text/html": [
              "<div>\n",
              "<style scoped>\n",
              "    .dataframe tbody tr th:only-of-type {\n",
              "        vertical-align: middle;\n",
              "    }\n",
              "\n",
              "    .dataframe tbody tr th {\n",
              "        vertical-align: top;\n",
              "    }\n",
              "\n",
              "    .dataframe thead th {\n",
              "        text-align: right;\n",
              "    }\n",
              "</style>\n",
              "<table border=\"1\" class=\"dataframe\">\n",
              "  <thead>\n",
              "    <tr style=\"text-align: right;\">\n",
              "      <th></th>\n",
              "      <th>diagnosis</th>\n",
              "      <th>radius_mean</th>\n",
              "      <th>area_mean</th>\n",
              "      <th>radius_se</th>\n",
              "      <th>area_se</th>\n",
              "      <th>smoothness_mean</th>\n",
              "      <th>smoothness_se</th>\n",
              "      <th>predicted</th>\n",
              "    </tr>\n",
              "  </thead>\n",
              "  <tbody>\n",
              "    <tr>\n",
              "      <th>421</th>\n",
              "      <td>0</td>\n",
              "      <td>14.69</td>\n",
              "      <td>656.1</td>\n",
              "      <td>0.5462</td>\n",
              "      <td>49.45</td>\n",
              "      <td>0.10310</td>\n",
              "      <td>0.009976</td>\n",
              "      <td>0</td>\n",
              "    </tr>\n",
              "    <tr>\n",
              "      <th>47</th>\n",
              "      <td>1</td>\n",
              "      <td>13.17</td>\n",
              "      <td>534.6</td>\n",
              "      <td>0.2871</td>\n",
              "      <td>24.25</td>\n",
              "      <td>0.11580</td>\n",
              "      <td>0.006532</td>\n",
              "      <td>0</td>\n",
              "    </tr>\n",
              "    <tr>\n",
              "      <th>292</th>\n",
              "      <td>0</td>\n",
              "      <td>12.95</td>\n",
              "      <td>513.7</td>\n",
              "      <td>0.2094</td>\n",
              "      <td>17.67</td>\n",
              "      <td>0.10050</td>\n",
              "      <td>0.008725</td>\n",
              "      <td>0</td>\n",
              "    </tr>\n",
              "    <tr>\n",
              "      <th>186</th>\n",
              "      <td>1</td>\n",
              "      <td>18.31</td>\n",
              "      <td>1041.0</td>\n",
              "      <td>0.2577</td>\n",
              "      <td>28.92</td>\n",
              "      <td>0.08588</td>\n",
              "      <td>0.002866</td>\n",
              "      <td>1</td>\n",
              "    </tr>\n",
              "    <tr>\n",
              "      <th>414</th>\n",
              "      <td>1</td>\n",
              "      <td>15.13</td>\n",
              "      <td>719.5</td>\n",
              "      <td>0.4681</td>\n",
              "      <td>45.38</td>\n",
              "      <td>0.08320</td>\n",
              "      <td>0.006831</td>\n",
              "      <td>1</td>\n",
              "    </tr>\n",
              "  </tbody>\n",
              "</table>\n",
              "</div>"
            ],
            "text/plain": [
              "     diagnosis  radius_mean  area_mean  radius_se  area_se  smoothness_mean  \\\n",
              "421          0        14.69      656.1     0.5462    49.45          0.10310   \n",
              "47           1        13.17      534.6     0.2871    24.25          0.11580   \n",
              "292          0        12.95      513.7     0.2094    17.67          0.10050   \n",
              "186          1        18.31     1041.0     0.2577    28.92          0.08588   \n",
              "414          1        15.13      719.5     0.4681    45.38          0.08320   \n",
              "\n",
              "     smoothness_se  predicted  \n",
              "421       0.009976          0  \n",
              "47        0.006532          0  \n",
              "292       0.008725          0  \n",
              "186       0.002866          1  \n",
              "414       0.006831          1  "
            ]
          },
          "execution_count": 19,
          "metadata": {},
          "output_type": "execute_result"
        }
      ]
    },
    {
      "cell_type": "code",
      "metadata": {
        "execution": {
          "iopub.execute_input": "2020-08-25T12:44:54.178237Z",
          "iopub.status.busy": "2020-08-25T12:44:54.177326Z",
          "iopub.status.idle": "2020-08-25T12:44:54.183343Z",
          "shell.execute_reply": "2020-08-25T12:44:54.182686Z"
        },
        "id": "chesGAaKNVON",
        "papermill": {
          "duration": 0.028403,
          "end_time": "2020-08-25T12:44:54.183452",
          "exception": false,
          "start_time": "2020-08-25T12:44:54.155049",
          "status": "completed"
        },
        "tags": [],
        "outputId": "168dd378-ef19-48c7-891d-664b707a45ea"
      },
      "source": [
        "input_labels = ['radius_mean']\n",
        "output_label = 'diagnosis'\n",
        "\n",
        "\n",
        "x_train = train_df[input_labels]\n",
        "print('Our x variables')\n",
        "print(x_train.head())\n",
        "print('\\n\\n')\n",
        "\n",
        "y_train = train_df[output_label]\n",
        "print('Our y variable:')\n",
        "print(y_train.head())"
      ],
      "execution_count": null,
      "outputs": [
        {
          "name": "stdout",
          "output_type": "stream",
          "text": [
            "Our x variables\n",
            "     radius_mean\n",
            "164       23.270\n",
            "13        15.850\n",
            "430       14.900\n",
            "61         8.598\n",
            "427       10.800\n",
            "\n",
            "\n",
            "\n",
            "Our y variable:\n",
            "164    1\n",
            "13     1\n",
            "430    1\n",
            "61     0\n",
            "427    0\n",
            "Name: diagnosis, dtype: int64\n"
          ]
        }
      ]
    },
    {
      "cell_type": "code",
      "metadata": {
        "execution": {
          "iopub.execute_input": "2020-08-25T12:44:54.216306Z",
          "iopub.status.busy": "2020-08-25T12:44:54.215501Z",
          "iopub.status.idle": "2020-08-25T12:44:54.219155Z",
          "shell.execute_reply": "2020-08-25T12:44:54.218612Z"
        },
        "id": "kj1LIpVT6SwY",
        "papermill": {
          "duration": 0.021042,
          "end_time": "2020-08-25T12:44:54.219274",
          "exception": false,
          "start_time": "2020-08-25T12:44:54.198232",
          "status": "completed"
        },
        "tags": []
      },
      "source": [
        "# Here, we create a 'reg' object that handles the line fitting for us!\n",
        "class_rm = linear_model.LogisticRegression()"
      ],
      "execution_count": null,
      "outputs": []
    },
    {
      "cell_type": "code",
      "metadata": {
        "execution": {
          "iopub.execute_input": "2020-08-25T12:44:54.256407Z",
          "iopub.status.busy": "2020-08-25T12:44:54.254083Z",
          "iopub.status.idle": "2020-08-25T12:44:54.267150Z",
          "shell.execute_reply": "2020-08-25T12:44:54.266518Z"
        },
        "id": "NfV0t3bqjtum",
        "papermill": {
          "duration": 0.035338,
          "end_time": "2020-08-25T12:44:54.267251",
          "exception": false,
          "start_time": "2020-08-25T12:44:54.231913",
          "status": "completed"
        },
        "tags": [],
        "outputId": "e04b8559-059c-431d-dfc0-b705efb41ff9"
      },
      "source": [
        "class_rm = linear_model.LogisticRegression()\n",
        "class_rm.fit(x_train, y_train)"
      ],
      "execution_count": null,
      "outputs": [
        {
          "data": {
            "text/plain": [
              "LogisticRegression()"
            ]
          },
          "execution_count": 22,
          "metadata": {},
          "output_type": "execute_result"
        }
      ]
    },
    {
      "cell_type": "code",
      "metadata": {
        "execution": {
          "iopub.execute_input": "2020-08-25T12:44:54.298187Z",
          "iopub.status.busy": "2020-08-25T12:44:54.297519Z",
          "iopub.status.idle": "2020-08-25T12:44:54.301089Z",
          "shell.execute_reply": "2020-08-25T12:44:54.300461Z"
        },
        "id": "WaBE6yg6kF2N",
        "papermill": {
          "duration": 0.021143,
          "end_time": "2020-08-25T12:44:54.301183",
          "exception": false,
          "start_time": "2020-08-25T12:44:54.280040",
          "status": "completed"
        },
        "tags": []
      },
      "source": [
        "x_test = test_df[input_labels]"
      ],
      "execution_count": null,
      "outputs": []
    },
    {
      "cell_type": "code",
      "metadata": {
        "execution": {
          "iopub.execute_input": "2020-08-25T12:44:54.333304Z",
          "iopub.status.busy": "2020-08-25T12:44:54.332610Z",
          "iopub.status.idle": "2020-08-25T12:44:54.336139Z",
          "shell.execute_reply": "2020-08-25T12:44:54.335464Z"
        },
        "id": "0Xcz9OW6kcAI",
        "papermill": {
          "duration": 0.021867,
          "end_time": "2020-08-25T12:44:54.336256",
          "exception": false,
          "start_time": "2020-08-25T12:44:54.314389",
          "status": "completed"
        },
        "tags": []
      },
      "source": [
        "y_test = test_df[output_label].values.squeeze()"
      ],
      "execution_count": null,
      "outputs": []
    },
    {
      "cell_type": "code",
      "metadata": {
        "execution": {
          "iopub.execute_input": "2020-08-25T12:44:54.370296Z",
          "iopub.status.busy": "2020-08-25T12:44:54.369456Z",
          "iopub.status.idle": "2020-08-25T12:44:54.373548Z",
          "shell.execute_reply": "2020-08-25T12:44:54.372762Z"
        },
        "id": "_59Wk6q46XVq",
        "papermill": {
          "duration": 0.024179,
          "end_time": "2020-08-25T12:44:54.373668",
          "exception": false,
          "start_time": "2020-08-25T12:44:54.349489",
          "status": "completed"
        },
        "tags": []
      },
      "source": [
        "y_pred = class_rm.predict(x_test)"
      ],
      "execution_count": null,
      "outputs": []
    },
    {
      "cell_type": "code",
      "metadata": {
        "execution": {
          "iopub.execute_input": "2020-08-25T12:44:54.404665Z",
          "iopub.status.busy": "2020-08-25T12:44:54.403850Z",
          "iopub.status.idle": "2020-08-25T12:44:54.409578Z",
          "shell.execute_reply": "2020-08-25T12:44:54.408921Z"
        },
        "id": "EjwNluOxOtoC",
        "papermill": {
          "duration": 0.02318,
          "end_time": "2020-08-25T12:44:54.409691",
          "exception": false,
          "start_time": "2020-08-25T12:44:54.386511",
          "status": "completed"
        },
        "tags": [],
        "outputId": "a475b2d6-dc3a-4699-c241-52a937dd19e1"
      },
      "source": [
        "print(y_pred)"
      ],
      "execution_count": null,
      "outputs": [
        {
          "name": "stdout",
          "output_type": "stream",
          "text": [
            "[1 0 0 1 1 1 1 1 0 0 0 0 1 0 1 0 0 0 0 1 0 0 1 0 1 0 0 1 1 1 1 0 1 0 0 0 1\n",
            " 1 0 0 0 0 0 0 0 1 0 0 1 1 1 1 0 0 0 0 0 1 0 0 0 0 1 0 0 0 0 1 0 0 0 0 0 1\n",
            " 0 1 1 0 0 1 0 1 0 1 0 0 0 0 0 0 0 0 0 0 1 0 0 0 0 0 0 0 0 1 0 1 0 0 1 1 0\n",
            " 0 0 0 1 1 0 0 0 1 0 1 1 0 0 1 1 1 1 1 0 1 0 1 0 1 1 1 0 1 1 1 0 1 1 1 0 0\n",
            " 0 1 0 0 0 0 1 0 1 0 0 0 0 0 0 1 0 0 1 1 1 0 0 0 0 0 0 0 0 0 1 0 0 0 0 0 1\n",
            " 1 1 0 1 0 0 0 0 1 1 0 0 0 1 0 1 0 1 0 1 1 0 1 0 1 0 0 0 0 1 0 0 0 0 0 0 0\n",
            " 1 0 1 0 0 1]\n"
          ]
        }
      ]
    },
    {
      "cell_type": "markdown",
      "metadata": {
        "id": "ensyfit5lP1U",
        "papermill": {
          "duration": 0.012964,
          "end_time": "2020-08-25T12:44:54.436303",
          "exception": false,
          "start_time": "2020-08-25T12:44:54.423339",
          "status": "completed"
        },
        "tags": []
      },
      "source": [
        "Run the code below to visualize the results"
      ]
    },
    {
      "cell_type": "code",
      "metadata": {
        "execution": {
          "iopub.execute_input": "2020-08-25T12:44:54.488040Z",
          "iopub.status.busy": "2020-08-25T12:44:54.476063Z",
          "iopub.status.idle": "2020-08-25T12:44:54.675068Z",
          "shell.execute_reply": "2020-08-25T12:44:54.674530Z"
        },
        "id": "GUSOLlz8lJu-",
        "papermill": {
          "duration": 0.225554,
          "end_time": "2020-08-25T12:44:54.675181",
          "exception": false,
          "start_time": "2020-08-25T12:44:54.449627",
          "status": "completed"
        },
        "tags": [],
        "outputId": "690544f0-1082-4228-dd83-49dff95d1893"
      },
      "source": [
        "y_pred = y_pred.squeeze()\n",
        "x_test_view = x_test[input_labels].values.squeeze()\n",
        "sns.scatterplot(x = x_test_view, y = y_pred, hue = y_test)\n",
        "plt.xlabel('Radius')\n",
        "plt.ylabel('Predicted')\n",
        "plt.legend()"
      ],
      "execution_count": null,
      "outputs": [
        {
          "data": {
            "text/plain": [
              "<matplotlib.legend.Legend at 0x7ff65c5dd850>"
            ]
          },
          "execution_count": 27,
          "metadata": {},
          "output_type": "execute_result"
        },
        {
          "data": {
            "image/png": "[encoded data removed]",
            "text/plain": [
              "<Figure size 432x288 with 1 Axes>"
            ]
          },
          "metadata": {
            "needs_background": "light"
          },
          "output_type": "display_data"
        }
      ]
    },
    {
      "cell_type": "markdown",
      "metadata": {
        "id": "x_DJgPAHlaVQ",
        "papermill": {
          "duration": 0.013365,
          "end_time": "2020-08-25T12:44:54.701997",
          "exception": false,
          "start_time": "2020-08-25T12:44:54.688632",
          "status": "completed"
        },
        "tags": []
      },
      "source": [
        "### Finally, let's re-evalute the recall, accuracy, and precision for the model by calling the functions we created."
      ]
    },
    {
      "cell_type": "code",
      "metadata": {
        "execution": {
          "iopub.execute_input": "2020-08-25T12:44:54.735981Z",
          "iopub.status.busy": "2020-08-25T12:44:54.735053Z",
          "iopub.status.idle": "2020-08-25T12:44:54.746258Z",
          "shell.execute_reply": "2020-08-25T12:44:54.746726Z"
        },
        "id": "BKz5TfiOTHDl",
        "papermill": {
          "duration": 0.031657,
          "end_time": "2020-08-25T12:44:54.746887",
          "exception": false,
          "start_time": "2020-08-25T12:44:54.715230",
          "status": "completed"
        },
        "tags": [],
        "outputId": "e1b30d2c-61cd-4cfc-df83-df5caf549ecf"
      },
      "source": [
        "model_stats(y_test, y_pred)"
      ],
      "execution_count": null,
      "outputs": [
        {
          "name": "stdout",
          "output_type": "stream",
          "text": [
            "Accuracy:  0.8552631578947368\n",
            "Precision:  0.7831325301204819\n",
            "Recall:  0.8125\n"
          ]
        }
      ]
    },
    {
      "cell_type": "code",
      "metadata": {
        "execution": {
          "iopub.execute_input": "2020-08-25T12:44:54.786819Z",
          "iopub.status.busy": "2020-08-25T12:44:54.784295Z",
          "iopub.status.idle": "2020-08-25T12:44:54.972751Z",
          "shell.execute_reply": "2020-08-25T12:44:54.972066Z"
        },
        "id": "V0tu5u7Y7CVL",
        "papermill": {
          "duration": 0.212318,
          "end_time": "2020-08-25T12:44:54.972861",
          "exception": false,
          "start_time": "2020-08-25T12:44:54.760543",
          "status": "completed"
        },
        "tags": [],
        "outputId": "8cd1d341-a3e5-4c2c-c97b-c1370b78ea21"
      },
      "source": [
        "# Let's visualize the probabilities for `x_test`\n",
        "y_prob = class_rm.predict_proba(x_test)\n",
        "sns.scatterplot(x = x_test_view, y = y_prob[:,1], hue = y_test)"
      ],
      "execution_count": null,
      "outputs": [
        {
          "data": {
            "text/plain": [
              "<matplotlib.axes._subplots.AxesSubplot at 0x7ff65c55ee50>"
            ]
          },
          "execution_count": 29,
          "metadata": {},
          "output_type": "execute_result"
        },
        {
          "data": {
            "image/png": "[encoded data removed]",
            "text/plain": [
              "<Figure size 432x288 with 1 Axes>"
            ]
          },
          "metadata": {
            "needs_background": "light"
          },
          "output_type": "display_data"
        }
      ]
    },
    {
      "cell_type": "markdown",
      "metadata": {
        "id": "4768savLF9kQ",
        "papermill": {
          "duration": 0.01348,
          "end_time": "2020-08-25T12:44:55.000062",
          "exception": false,
          "start_time": "2020-08-25T12:44:54.986582",
          "status": "completed"
        },
        "tags": []
      },
      "source": [
        "## Visualization: linear vs. logistic regression\n",
        "\n"
      ]
    },
    {
      "cell_type": "markdown",
      "metadata": {
        "id": "nVZQExC5Qhbs",
        "papermill": {
          "duration": 0.014319,
          "end_time": "2020-08-25T12:44:55.028435",
          "exception": false,
          "start_time": "2020-08-25T12:44:55.014116",
          "status": "completed"
        },
        "tags": []
      },
      "source": [
        "This plot shows the graphical representations described above. As you can see, the linear model can yield predicted values outside the [0,1] range because it is a continuous linear function. \n",
        "\n",
        "On the other hand, the logistic model stays within our bounds. You can see that the logistic model gives a \"line\" with curvy ends in the [0,1] range, which is the best approximation for a line that will also always respect these boundaries. \n",
        "\n",
        "**Confusingly, the biggest difference between linear and logistic regression is that linear regression is used for regression problems (predicting the value of continuous variables) while logistic regression is used for classification problems!**\n",
        "\n",
        "*Linear Regression:*\n",
        "\n",
        "![Linear Regression](https://i.stack.imgur.com/kW8YP.png)\n",
        "\n",
        "*Logistic Regression:*\n",
        "\n",
        "![Logistic Regression](https://techdifferences.com/wp-content/uploads/2018/01/graph-logistic-regression.jpg)"
      ]
    }
  ]
}